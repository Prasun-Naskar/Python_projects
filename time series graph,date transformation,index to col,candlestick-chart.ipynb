{
 "cells": [
  {
   "cell_type": "code",
   "execution_count": 5,
   "id": "5579060e",
   "metadata": {},
   "outputs": [],
   "source": [
    "import pandas as pd\n",
    "import datetime\n",
    "from datetime import date, timedelta"
   ]
  },
  {
   "cell_type": "code",
   "execution_count": 38,
   "id": "9c758473",
   "metadata": {},
   "outputs": [],
   "source": [
    "!pip install yfinance"
   ]
  },
  {
   "cell_type": "code",
   "execution_count": 39,
   "id": "0908ba49",
   "metadata": {},
   "outputs": [],
   "source": [
    "#import yfinance as yf"
   ]
  },
  {
   "cell_type": "markdown",
   "id": "46d69609",
   "metadata": {},
   "source": [
    "# Converting todays date into format"
   ]
  },
  {
   "cell_type": "code",
   "execution_count": 25,
   "id": "9b7b4ea7",
   "metadata": {},
   "outputs": [
    {
     "data": {
      "text/plain": [
       "'2024-02-25'"
      ]
     },
     "execution_count": 25,
     "metadata": {},
     "output_type": "execute_result"
    }
   ],
   "source": [
    "today = date.today()\n",
    "d1 = today.strftime(\"%Y-%m-%d\")\n",
    "end_date=d1\n",
    "\n"
   ]
  },
  {
   "cell_type": "markdown",
   "id": "6ee1efb4",
   "metadata": {},
   "source": [
    "# calculating any datediff from todays date"
   ]
  },
  {
   "cell_type": "code",
   "execution_count": 29,
   "id": "d07414ea",
   "metadata": {},
   "outputs": [
    {
     "data": {
      "text/plain": [
       "datetime.date(2022, 2, 25)"
      ]
     },
     "execution_count": 29,
     "metadata": {},
     "output_type": "execute_result"
    }
   ],
   "source": [
    "d2 = date.today() - timedelta(days=730)\n",
    "d2 = d2.strftime(\"%Y-%m-%d\")\n",
    "start_date = d2\n"
   ]
  },
  {
   "cell_type": "markdown",
   "id": "0ae1e8c9",
   "metadata": {},
   "source": [
    "# collecting yfinance data"
   ]
  },
  {
   "cell_type": "code",
   "execution_count": 40,
   "id": "8f6c9031",
   "metadata": {},
   "outputs": [],
   "source": [
    "data = yf.download('AAPL', \n",
    "                      start=start_date, \n",
    "                      end=end_date, \n",
    "                      progress=False)\n",
    "print(data.head())"
   ]
  },
  {
   "cell_type": "markdown",
   "id": "0ab1c7be",
   "metadata": {},
   "source": [
    "# converting index to column"
   ]
  },
  {
   "cell_type": "code",
   "execution_count": null,
   "id": "f8aab6e6",
   "metadata": {},
   "outputs": [],
   "source": [
    "data[\"Date\"] = data.index\n",
    "data = data[[\"Date\", \"Open\", \"High\", \n",
    "             \"Low\", \"Close\", \"Adj Close\", \"Volume\"]]\n",
    "data.reset_index(drop=True, inplace=True)\n",
    "print(data.head())"
   ]
  },
  {
   "cell_type": "markdown",
   "id": "418cea99",
   "metadata": {},
   "source": [
    "# Making time-series graph"
   ]
  },
  {
   "cell_type": "code",
   "execution_count": null,
   "id": "c7a2dca1",
   "metadata": {},
   "outputs": [],
   "source": [
    "import plotly.express as px\n",
    "figure = px.line(data, x = data.index, y = \"Close\")\n",
    "figure.show()"
   ]
  },
  {
   "cell_type": "markdown",
   "id": "2513418c",
   "metadata": {},
   "source": [
    "# candlestick graph"
   ]
  },
  {
   "cell_type": "code",
   "execution_count": null,
   "id": "7272796b",
   "metadata": {},
   "outputs": [],
   "source": [
    "import plotly.graph_objects as go\n",
    "figure = go.Figure(data=[go.Candlestick(x=data[\"Date\"],\n",
    "                                        open=data[\"Open\"], \n",
    "                                        high=data[\"High\"],\n",
    "                                        low=data[\"Low\"], \n",
    "                                        close=data[\"Close\"])])\n",
    "figure.update_layout(title = \"Apple Stock Price Analysis\", \n",
    "                     xaxis_rangeslider_visible=False)\n",
    "figure.show()"
   ]
  }
 ],
 "metadata": {
  "kernelspec": {
   "display_name": "Python 3 (ipykernel)",
   "language": "python",
   "name": "python3"
  },
  "language_info": {
   "codemirror_mode": {
    "name": "ipython",
    "version": 3
   },
   "file_extension": ".py",
   "mimetype": "text/x-python",
   "name": "python",
   "nbconvert_exporter": "python",
   "pygments_lexer": "ipython3",
   "version": "3.11.5"
  }
 },
 "nbformat": 4,
 "nbformat_minor": 5
}
