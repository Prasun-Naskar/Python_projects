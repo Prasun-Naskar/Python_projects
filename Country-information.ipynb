{
 "cells": [
  {
   "cell_type": "code",
   "execution_count": 8,
   "id": "b4a2528b",
   "metadata": {},
   "outputs": [],
   "source": [
    "#!pip install countryinfo"
   ]
  },
  {
   "cell_type": "code",
   "execution_count": 4,
   "id": "7dfe33ae",
   "metadata": {},
   "outputs": [],
   "source": [
    "from countryinfo import CountryInfo\n",
    "country = CountryInfo(\"China\")"
   ]
  },
  {
   "cell_type": "code",
   "execution_count": 5,
   "id": "32456aa4",
   "metadata": {},
   "outputs": [
    {
     "name": "stdout",
     "output_type": "stream",
     "text": [
      "['CN', 'Zhōngguó', 'Zhongguo', 'Zhonghua', \"People's Republic of China\", '中华人民共和国', 'Zhōnghuá Rénmín Gònghéguó']\n",
      "Beijing\n",
      "['CNY']\n",
      "['zh']\n",
      "['AFG', 'BTN', 'MMR', 'HKG', 'IND', 'KAZ', 'PRK', 'KGZ', 'LAO', 'MAC', 'MNG', 'PAK', 'RUS', 'TJK', 'VNM']\n"
     ]
    }
   ],
   "source": [
    "print(country.alt_spellings())\n",
    "print(country.capital())\n",
    "print(country.currencies())\n",
    "print(country.languages())\n",
    "print(country.borders())"
   ]
  },
  {
   "cell_type": "markdown",
   "id": "88711738",
   "metadata": {},
   "source": [
    "# For fetching every details"
   ]
  },
  {
   "cell_type": "code",
   "execution_count": 7,
   "id": "b3c14da9",
   "metadata": {},
   "outputs": [],
   "source": [
    "data = country.info()\n",
    "for i, j in data.items():\n",
    "  print(f\"{i}:>>{j}\")"
   ]
  },
  {
   "cell_type": "code",
   "execution_count": null,
   "id": "af71d927",
   "metadata": {},
   "outputs": [],
   "source": []
  }
 ],
 "metadata": {
  "kernelspec": {
   "display_name": "Python 3 (ipykernel)",
   "language": "python",
   "name": "python3"
  },
  "language_info": {
   "codemirror_mode": {
    "name": "ipython",
    "version": 3
   },
   "file_extension": ".py",
   "mimetype": "text/x-python",
   "name": "python",
   "nbconvert_exporter": "python",
   "pygments_lexer": "ipython3",
   "version": "3.11.5"
  }
 },
 "nbformat": 4,
 "nbformat_minor": 5
}
