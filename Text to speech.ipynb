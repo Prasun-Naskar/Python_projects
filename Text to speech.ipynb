{
 "cells": [
  {
   "cell_type": "code",
   "execution_count": 5,
   "id": "a2638cf5",
   "metadata": {},
   "outputs": [],
   "source": [
    "#!pip install gtts"
   ]
  },
  {
   "cell_type": "code",
   "execution_count": 4,
   "id": "dc2b1ddd",
   "metadata": {},
   "outputs": [],
   "source": [
    "import nltk\n",
    "from gtts import gTTS\n",
    "import os"
   ]
  },
  {
   "cell_type": "code",
   "execution_count": 14,
   "id": "df23a143",
   "metadata": {},
   "outputs": [],
   "source": [
    "text=\"your text\"\n",
    "language = 'en' #English"
   ]
  },
  {
   "cell_type": "code",
   "execution_count": 8,
   "id": "5c547585",
   "metadata": {},
   "outputs": [],
   "source": [
    "\n",
    "#Get the article\n",
    "article = Article('https://hackernoon.com/future-of-python-language-bright-or-dull-uv41u3xwx')\n",
    "\n",
    "article.download()\n",
    "article.parse()\n",
    "nltk.download('punkt')\n",
    "article.nlp()\n",
    "\n",
    "#Get the articles text\n",
    "mytext = article.text"
   ]
  },
  {
   "cell_type": "code",
   "execution_count": 15,
   "id": "693e1b54",
   "metadata": {},
   "outputs": [],
   "source": [
    "myobj = gTTS(text=text, lang=language, slow=False)"
   ]
  },
  {
   "cell_type": "code",
   "execution_count": 16,
   "id": "66aa962a",
   "metadata": {},
   "outputs": [],
   "source": [
    "myobj.save(\"read_article1.mp3\")"
   ]
  },
  {
   "cell_type": "code",
   "execution_count": 17,
   "id": "f1cf24d6",
   "metadata": {},
   "outputs": [
    {
     "data": {
      "text/plain": [
       "0"
      ]
     },
     "execution_count": 17,
     "metadata": {},
     "output_type": "execute_result"
    }
   ],
   "source": [
    "os.system(\"start read_article1.mp3\")"
   ]
  },
  {
   "cell_type": "code",
   "execution_count": null,
   "id": "830382a4",
   "metadata": {},
   "outputs": [],
   "source": []
  }
 ],
 "metadata": {
  "kernelspec": {
   "display_name": "Python 3 (ipykernel)",
   "language": "python",
   "name": "python3"
  },
  "language_info": {
   "codemirror_mode": {
    "name": "ipython",
    "version": 3
   },
   "file_extension": ".py",
   "mimetype": "text/x-python",
   "name": "python",
   "nbconvert_exporter": "python",
   "pygments_lexer": "ipython3",
   "version": "3.11.5"
  }
 },
 "nbformat": 4,
 "nbformat_minor": 5
}
